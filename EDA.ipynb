{
 "cells": [
  {
   "cell_type": "markdown",
   "id": "7d0ad30b",
   "metadata": {},
   "source": [
    "# Data Exploreation"
   ]
  },
  {
   "cell_type": "markdown",
   "id": "52c4ea9c",
   "metadata": {},
   "source": [
    "## "
   ]
  },
  {
   "cell_type": "code",
   "execution_count": 1,
   "id": "0ff8f286",
   "metadata": {},
   "outputs": [],
   "source": [
    "import pandas as pd"
   ]
  },
  {
   "cell_type": "code",
   "execution_count": 25,
   "id": "34998a3d",
   "metadata": {},
   "outputs": [
    {
     "data": {
      "text/html": [
       "<div>\n",
       "<style scoped>\n",
       "    .dataframe tbody tr th:only-of-type {\n",
       "        vertical-align: middle;\n",
       "    }\n",
       "\n",
       "    .dataframe tbody tr th {\n",
       "        vertical-align: top;\n",
       "    }\n",
       "\n",
       "    .dataframe thead th {\n",
       "        text-align: right;\n",
       "    }\n",
       "</style>\n",
       "<table border=\"1\" class=\"dataframe\">\n",
       "  <thead>\n",
       "    <tr style=\"text-align: right;\">\n",
       "      <th></th>\n",
       "      <th>ImageID</th>\n",
       "      <th>Labels</th>\n",
       "      <th>Caption</th>\n",
       "    </tr>\n",
       "  </thead>\n",
       "  <tbody>\n",
       "    <tr>\n",
       "      <th>0</th>\n",
       "      <td>0.jpg</td>\n",
       "      <td>1</td>\n",
       "      <td>\"Woman in swim suit holding parasol on sunny d...</td>\n",
       "    </tr>\n",
       "    <tr>\n",
       "      <th>1</th>\n",
       "      <td>1.jpg</td>\n",
       "      <td>1 19</td>\n",
       "      <td>\"A couple of men riding horses on top of a gre...</td>\n",
       "    </tr>\n",
       "    <tr>\n",
       "      <th>2</th>\n",
       "      <td>2.jpg</td>\n",
       "      <td>1</td>\n",
       "      <td>\"They are brave for riding in the jungle on th...</td>\n",
       "    </tr>\n",
       "    <tr>\n",
       "      <th>3</th>\n",
       "      <td>3.jpg</td>\n",
       "      <td>8 3 13</td>\n",
       "      <td>\"a black and silver clock tower at an intersec...</td>\n",
       "    </tr>\n",
       "    <tr>\n",
       "      <th>4</th>\n",
       "      <td>4.jpg</td>\n",
       "      <td>8 3 7</td>\n",
       "      <td>\"A train coming to a stop on the tracks out si...</td>\n",
       "    </tr>\n",
       "    <tr>\n",
       "      <th>...</th>\n",
       "      <td>...</td>\n",
       "      <td>...</td>\n",
       "      <td>...</td>\n",
       "    </tr>\n",
       "    <tr>\n",
       "      <th>29999</th>\n",
       "      <td>29995.jpg</td>\n",
       "      <td>8 1 2</td>\n",
       "      <td>\"A picture of a truck that is in the middle of...</td>\n",
       "    </tr>\n",
       "    <tr>\n",
       "      <th>30000</th>\n",
       "      <td>29996.jpg</td>\n",
       "      <td>1</td>\n",
       "      <td>\"A plate topped with a pizza being cut with a ...</td>\n",
       "    </tr>\n",
       "    <tr>\n",
       "      <th>30001</th>\n",
       "      <td>29997.jpg</td>\n",
       "      <td>1</td>\n",
       "      <td>\"A man riding a snowboard on top of  snow.\"</td>\n",
       "    </tr>\n",
       "    <tr>\n",
       "      <th>30002</th>\n",
       "      <td>29998.jpg</td>\n",
       "      <td>1</td>\n",
       "      <td>\"This photo shows people skiing in the mountai...</td>\n",
       "    </tr>\n",
       "    <tr>\n",
       "      <th>30003</th>\n",
       "      <td>29999.jpg</td>\n",
       "      <td>1</td>\n",
       "      <td>\"Two young men playing soccer and fighting for...</td>\n",
       "    </tr>\n",
       "  </tbody>\n",
       "</table>\n",
       "<p>30004 rows × 3 columns</p>\n",
       "</div>"
      ],
      "text/plain": [
       "         ImageID  Labels                                            Caption\n",
       "0          0.jpg       1  \"Woman in swim suit holding parasol on sunny d...\n",
       "1          1.jpg    1 19  \"A couple of men riding horses on top of a gre...\n",
       "2          2.jpg       1  \"They are brave for riding in the jungle on th...\n",
       "3          3.jpg  8 3 13  \"a black and silver clock tower at an intersec...\n",
       "4          4.jpg   8 3 7  \"A train coming to a stop on the tracks out si...\n",
       "...          ...     ...                                                ...\n",
       "29999  29995.jpg   8 1 2  \"A picture of a truck that is in the middle of...\n",
       "30000  29996.jpg       1  \"A plate topped with a pizza being cut with a ...\n",
       "30001  29997.jpg       1        \"A man riding a snowboard on top of  snow.\"\n",
       "30002  29998.jpg       1  \"This photo shows people skiing in the mountai...\n",
       "30003  29999.jpg       1  \"Two young men playing soccer and fighting for...\n",
       "\n",
       "[30004 rows x 3 columns]"
      ]
     },
     "execution_count": 25,
     "metadata": {},
     "output_type": "execute_result"
    }
   ],
   "source": [
    "# train_label = pd.read_csv('data/train.csv', sep=',')\n",
    "# train_label\n",
    "train_label = pd.read_csv('data/train.csv', sep='\\n')\n",
    "\n",
    "train_label = train_label['ImageID,Labels,Caption'].str.split(',', expand=True)\n",
    "train_label = train_label.loc[:, '0':'2']\n",
    "train_label.columns = [\"ImageID\", \"Labels\", \"Caption\"]\n",
    "train_label\n",
    "\n",
    "# ids = df['ImageID']\n",
    "# df[ids.isin(ids[ids.duplicated()])]\n"
   ]
  },
  {
   "cell_type": "markdown",
   "id": "3bc63c06",
   "metadata": {},
   "source": [
    "Hre we have a potential issue in the ids, the total rows is 30004, while the image id is from 0 to 29999"
   ]
  },
  {
   "cell_type": "code",
   "execution_count": 27,
   "id": "7fe1ca39",
   "metadata": {},
   "outputs": [
    {
     "data": {
      "text/html": [
       "<div>\n",
       "<style scoped>\n",
       "    .dataframe tbody tr th:only-of-type {\n",
       "        vertical-align: middle;\n",
       "    }\n",
       "\n",
       "    .dataframe tbody tr th {\n",
       "        vertical-align: top;\n",
       "    }\n",
       "\n",
       "    .dataframe thead th {\n",
       "        text-align: right;\n",
       "    }\n",
       "</style>\n",
       "<table border=\"1\" class=\"dataframe\">\n",
       "  <thead>\n",
       "    <tr style=\"text-align: right;\">\n",
       "      <th></th>\n",
       "      <th>ImageID</th>\n",
       "      <th>Caption</th>\n",
       "    </tr>\n",
       "  </thead>\n",
       "  <tbody>\n",
       "    <tr>\n",
       "      <th>0</th>\n",
       "      <td>30000.jpg</td>\n",
       "      <td>\"A little girl waring a krispy kreme hat holdi...</td>\n",
       "    </tr>\n",
       "    <tr>\n",
       "      <th>1</th>\n",
       "      <td>30001.jpg</td>\n",
       "      <td>\"A beautiful young woman holding an orange fri...</td>\n",
       "    </tr>\n",
       "    <tr>\n",
       "      <th>2</th>\n",
       "      <td>30002.jpg</td>\n",
       "      <td>\"A group of people sitting on couch next to a ...</td>\n",
       "    </tr>\n",
       "    <tr>\n",
       "      <th>3</th>\n",
       "      <td>30003.jpg</td>\n",
       "      <td>\"A person on a snowboard rides on the hill.\"</td>\n",
       "    </tr>\n",
       "    <tr>\n",
       "      <th>4</th>\n",
       "      <td>30004.jpg</td>\n",
       "      <td>\"A man riding a skateboard with a helmet on in...</td>\n",
       "    </tr>\n",
       "    <tr>\n",
       "      <th>...</th>\n",
       "      <td>...</td>\n",
       "      <td>...</td>\n",
       "    </tr>\n",
       "    <tr>\n",
       "      <th>9995</th>\n",
       "      <td>39995.jpg</td>\n",
       "      <td>\"A group of men riding surfboards riding a mas...</td>\n",
       "    </tr>\n",
       "    <tr>\n",
       "      <th>9996</th>\n",
       "      <td>39996.jpg</td>\n",
       "      <td>\"A motorcycle parked next to a car in a parkin...</td>\n",
       "    </tr>\n",
       "    <tr>\n",
       "      <th>9997</th>\n",
       "      <td>39997.jpg</td>\n",
       "      <td>\"a little boy that is playing with a wii\"</td>\n",
       "    </tr>\n",
       "    <tr>\n",
       "      <th>9998</th>\n",
       "      <td>39998.jpg</td>\n",
       "      <td>\"group of kids play Frisbee golf in the middle...</td>\n",
       "    </tr>\n",
       "    <tr>\n",
       "      <th>9999</th>\n",
       "      <td>39999.jpg</td>\n",
       "      <td>\"A man in a gray jacket standing next to a wom...</td>\n",
       "    </tr>\n",
       "  </tbody>\n",
       "</table>\n",
       "<p>10000 rows × 2 columns</p>\n",
       "</div>"
      ],
      "text/plain": [
       "        ImageID                                            Caption\n",
       "0     30000.jpg  \"A little girl waring a krispy kreme hat holdi...\n",
       "1     30001.jpg  \"A beautiful young woman holding an orange fri...\n",
       "2     30002.jpg  \"A group of people sitting on couch next to a ...\n",
       "3     30003.jpg       \"A person on a snowboard rides on the hill.\"\n",
       "4     30004.jpg  \"A man riding a skateboard with a helmet on in...\n",
       "...         ...                                                ...\n",
       "9995  39995.jpg  \"A group of men riding surfboards riding a mas...\n",
       "9996  39996.jpg  \"A motorcycle parked next to a car in a parkin...\n",
       "9997  39997.jpg          \"a little boy that is playing with a wii\"\n",
       "9998  39998.jpg  \"group of kids play Frisbee golf in the middle...\n",
       "9999  39999.jpg  \"A man in a gray jacket standing next to a wom...\n",
       "\n",
       "[10000 rows x 2 columns]"
      ]
     },
     "execution_count": 27,
     "metadata": {},
     "output_type": "execute_result"
    }
   ],
   "source": [
    "test_label = pd.read_csv('data/test.csv', sep='\\n')\n",
    "\n",
    "test_label = test_label['ImageID,Caption'].str.split(',', expand=True)\n",
    "test_label = test_label.loc[:, '0':'1']\n",
    "test_label.columns = [\"ImageID\", \"Caption\"]\n",
    "test_label"
   ]
  },
  {
   "cell_type": "markdown",
   "id": "be31e8c5",
   "metadata": {},
   "source": [
    "## Check if each class is balanced (list the numer of sample's every class)"
   ]
  },
  {
   "cell_type": "markdown",
   "id": "71848f36",
   "metadata": {},
   "source": [
    "## calculate mean and std"
   ]
  },
  {
   "cell_type": "code",
   "execution_count": null,
   "id": "bc4383c9",
   "metadata": {},
   "outputs": [],
   "source": []
  },
  {
   "cell_type": "code",
   "execution_count": null,
   "outputs": [],
   "source": [
    "import torch"
   ],
   "metadata": {
    "collapsed": false,
    "pycharm": {
     "name": "#%%\n"
    }
   }
  },
  {
   "cell_type": "code",
   "execution_count": null,
   "outputs": [],
   "source": [],
   "metadata": {
    "collapsed": false,
    "pycharm": {
     "name": "#%%\n"
    }
   }
  }
 ],
 "metadata": {
  "kernelspec": {
   "display_name": "Python 3 (ipykernel)",
   "language": "python",
   "name": "python3"
  },
  "language_info": {
   "codemirror_mode": {
    "name": "ipython",
    "version": 3
   },
   "file_extension": ".py",
   "mimetype": "text/x-python",
   "name": "python",
   "nbconvert_exporter": "python",
   "pygments_lexer": "ipython3",
   "version": "3.9.4"
  }
 },
 "nbformat": 4,
 "nbformat_minor": 5
}